{
 "cells": [
  {
   "cell_type": "code",
   "execution_count": 1,
   "id": "eebebcbf-7d43-434e-87bf-7ab375efe214",
   "metadata": {
    "tags": []
   },
   "outputs": [],
   "source": [
    "import xarray as xr\n",
    "import numpy as np\n",
    "import om4labs.om4common as om4\n",
    "import cartopy.crs as ccrs\n",
    "import matplotlib.path as mpath\n",
    "import matplotlib.pyplot as plt\n",
    "\n",
    "\n",
    "# parameters for setting circular cutoff for Southern Ocean plots\n",
    "theta = np.linspace(0, 2*np.pi, 100)\n",
    "center, radius = [0.5, 0.5], 0.5\n",
    "verts = np.vstack([np.sin(theta), np.cos(theta)]).T\n",
    "circle = mpath.Path(verts * radius + center)"
   ]
  },
  {
   "cell_type": "code",
   "execution_count": 6,
   "id": "edb49e8e-7449-407a-8fc7-9f95910d94ce",
   "metadata": {
    "tags": []
   },
   "outputs": [],
   "source": [
    "path = '/work/Katherine.Turner/tempest-extremes/odiv-251/wind_blobs/'\n",
    "ds = xr.open_mfdataset(f\"{path}SH_winds_3day_*.nc\", use_cftime=True)\n",
    "\n",
    "path_temp = '/archive/Katherine.Turner/xanadu_mom6_20220703/CM4_piControl_C_restartyear151/gfdl.ncrc5-intel22-prod-openmp/pp/atmos/ts/6hr/5yr/'\n",
    "\n",
    "files = [path_temp + 'atmos.0151010100-0155123123.t_ref.nc', \n",
    "         path_temp + 'atmos.0161010100-0165123123.t_ref.nc', path_temp + 'atmos.0166010100-0170123123.t_ref.nc',\n",
    "         path_temp + 'atmos.0171010100-0175123123.t_ref.nc', path_temp + 'atmos.0176010100-0180123123.t_ref.nc',\n",
    "         path_temp + 'atmos.0181010100-0185123123.t_ref.nc', path_temp + 'atmos.0186010100-0190123123.t_ref.nc',\n",
    "         path_temp + 'atmos.0191010100-0195123123.t_ref.nc', path_temp + 'atmos.0196010100-0200123123.t_ref.nc',\n",
    "         path_temp + 'atmos.0201010100-0205123123.t_ref.nc', path_temp + 'atmos.0206010100-0210123123.t_ref.nc',\n",
    "         path_temp + 'atmos.0211010100-0215123123.t_ref.nc', path_temp + 'atmos.0216010100-0220123123.t_ref.nc',\n",
    "         path_temp + 'atmos.0221010100-0225123123.t_ref.nc', path_temp + 'atmos.0226010100-0230123123.t_ref.nc',\n",
    "         path_temp + 'atmos.0231010100-0235123123.t_ref.nc', path_temp + 'atmos.0236010100-0240123123.t_ref.nc',\n",
    "         path_temp + 'atmos.0241010100-0245123123.t_ref.nc',\n",
    "        ]\n",
    "\n",
    "ds_t = xr.open_mfdataset(files, use_cftime=True)"
   ]
  },
  {
   "cell_type": "code",
   "execution_count": 35,
   "id": "724d87ea-f606-4206-8422-a77633c1d965",
   "metadata": {
    "tags": []
   },
   "outputs": [],
   "source": [
    "ds_t = xr.open_mfdataset('/work/Katherine.Turner/tempest-extremes/odiv-251/data/*.hf*.nc', use_cftime=True)"
   ]
  },
  {
   "cell_type": "code",
   "execution_count": 36,
   "id": "3b1bd895-3bc8-407c-8ac0-18953c14edae",
   "metadata": {
    "tags": []
   },
   "outputs": [],
   "source": [
    "hf_turb = ds_t.hfsso + ds_t.hflso"
   ]
  },
  {
   "cell_type": "code",
   "execution_count": 37,
   "id": "f6d0f6b4-a0b0-4c75-81a2-17893dea5ded",
   "metadata": {
    "tags": []
   },
   "outputs": [
    {
     "data": {
      "text/plain": [
       "<xarray.backends.zarr.ZarrStore at 0x150d5b2c11c0>"
      ]
     },
     "execution_count": 37,
     "metadata": {},
     "output_type": "execute_result"
    }
   ],
   "source": [
    "ds_out = hf_turb.to_dataset(name='hf_turb').chunk({'lat':30, 'lon':24, 'time':-1})\n",
    "ds_out.to_zarr('/xtmp/Katherine.Turner/work/model_zarrs/CM4_hf_turb')"
   ]
  },
  {
   "cell_type": "code",
   "execution_count": 38,
   "id": "d3593368-ea52-41a5-b332-1258a05c65de",
   "metadata": {
    "tags": []
   },
   "outputs": [],
   "source": [
    "del ds_out"
   ]
  },
  {
   "cell_type": "code",
   "execution_count": 15,
   "id": "31b62cb0-1b79-4287-b8d9-a1e74b2463ba",
   "metadata": {
    "jupyter": {
     "source_hidden": true
    },
    "tags": []
   },
   "outputs": [],
   "source": [
    "idx = ds.object_id/ ds.object_id\n",
    "idx_binary = idx.fillna(0).astype(int)\n",
    "\n",
    "ds_out = idx.chunk({'lat':30, 'lon':24, 'time':-1}).to_dataset(name='windy_idx')\n",
    "ds_out.to_zarr('/xtmp/Katherine.Turner/work/model_zarrs/CM4_windy_idx')"
   ]
  },
  {
   "cell_type": "markdown",
   "id": "64415c35-9723-47c2-8656-45288ed911f8",
   "metadata": {
    "tags": []
   },
   "source": [
    "### b) Creating climatology of temperatures"
   ]
  },
  {
   "cell_type": "code",
   "execution_count": 17,
   "id": "a6f17f37-8939-42d9-8e6e-eab7044fd77d",
   "metadata": {
    "tags": []
   },
   "outputs": [
    {
     "data": {
      "text/plain": [
       "array([     0,      1,      2, ..., 138697, 138698, 138699])"
      ]
     },
     "execution_count": 17,
     "metadata": {},
     "output_type": "execute_result"
    }
   ],
   "source": [
    "time_array = np.concatenate((np.arange(5*365*4), np.arange(10*365*4, len(idx.time))))\n",
    "time_array"
   ]
  },
  {
   "cell_type": "code",
   "execution_count": 18,
   "id": "328feedd-2081-42ea-8649-96affbe2a603",
   "metadata": {
    "tags": []
   },
   "outputs": [],
   "source": [
    "ds_idx = xr.open_zarr('/xtmp/Katherine.Turner/work/model_zarrs/CM4_windy_idx')\n",
    "ds_tref = xr.open_zarr('/xtmp/Katherine.Turner/work/model_zarrs/CM4_t_ref')"
   ]
  },
  {
   "cell_type": "code",
   "execution_count": 21,
   "id": "f969e10a-12da-49dc-a79c-277bed47bd31",
   "metadata": {
    "tags": []
   },
   "outputs": [
    {
     "data": {
      "text/plain": [
       "<xarray.backends.zarr.ZarrStore at 0x150eb4d47ed0>"
      ]
     },
     "execution_count": 21,
     "metadata": {},
     "output_type": "execute_result"
    }
   ],
   "source": [
    "time_6h = idx.time[time_array]\n",
    "ds_out = ds_tref.interp(time=time_6h)\n",
    "\n",
    "ds_out.to_zarr('/xtmp/Katherine.Turner/work/model_zarrs/CM4_t_ref_6hr')"
   ]
  },
  {
   "cell_type": "code",
   "execution_count": 40,
   "id": "27d8c58a-60ab-4937-b52f-788edbbc8065",
   "metadata": {
    "tags": []
   },
   "outputs": [
    {
     "name": "stderr",
     "output_type": "stream",
     "text": [
      "/nbhome/Katherine.Turner/miniconda3/envs/py310/lib/python3.10/site-packages/xarray/core/indexing.py:1384: PerformanceWarning: Slicing with an out-of-order index is generating 95 times more chunks\n",
      "  return self.array[key]\n"
     ]
    }
   ],
   "source": [
    "ds = xr.open_zarr('/xtmp/Katherine.Turner/work/model_zarrs/CM4_hf_turb')\n",
    "tclim = ds.hf_turb.groupby(ds.time.dt.dayofyear).mean()\n",
    "tanom = ds.hf_turb.groupby(ds.time.dt.dayofyear) - tclim"
   ]
  },
  {
   "cell_type": "code",
   "execution_count": 41,
   "id": "99b73913-3916-4cc1-8f7c-7e7ad8a79ec4",
   "metadata": {
    "tags": []
   },
   "outputs": [
    {
     "data": {
      "text/plain": [
       "<xarray.backends.zarr.ZarrStore at 0x150d4e82ab90>"
      ]
     },
     "execution_count": 41,
     "metadata": {},
     "output_type": "execute_result"
    }
   ],
   "source": [
    "tanom = tanom.chunk({'time':-1})\n",
    "tanom.to_dataset(name='hf_turb_anom').to_zarr('/xtmp/Katherine.Turner/work/model_zarrs/CM4_hf_turb_anom')"
   ]
  },
  {
   "cell_type": "markdown",
   "id": "ed055082-b59b-4f16-9bbf-54d8606ed9ed",
   "metadata": {},
   "source": [
    "## Looking at the temperature anomalies underneath windy events"
   ]
  },
  {
   "cell_type": "code",
   "execution_count": 42,
   "id": "f109a4dc-e0cb-4167-b6be-4365bcf55c9d",
   "metadata": {
    "tags": []
   },
   "outputs": [],
   "source": [
    "ds_idx = xr.open_zarr('/xtmp/Katherine.Turner/work/model_zarrs/CM4_windy_idx')\n",
    "dt = xr.open_zarr('/xtmp/Katherine.Turner/work/model_zarrs/CM4_hf_turb_anom')"
   ]
  },
  {
   "cell_type": "code",
   "execution_count": 49,
   "id": "bc679b84-7a2a-45dd-9762-3574fe19bbef",
   "metadata": {
    "tags": []
   },
   "outputs": [],
   "source": [
    "tanom_wind = (dt.hf_turb_anom * ds_idx.windy_idx).mean(dim='time').compute()"
   ]
  },
  {
   "cell_type": "code",
   "execution_count": 57,
   "id": "50e64292-a1c5-49e4-b4f6-e231d4d416ef",
   "metadata": {
    "tags": []
   },
   "outputs": [
    {
     "data": {
      "text/plain": [
       "<matplotlib.collections.QuadMesh at 0x150c1cf32bf0>"
      ]
     },
     "execution_count": 57,
     "metadata": {},
     "output_type": "execute_result"
    },
    {
     "data": {
      "image/png": "[encoded data removed]",
      "text/plain": [
       "<Figure size 640x480 with 2 Axes>"
      ]
     },
     "metadata": {},
     "output_type": "display_data"
    }
   ],
   "source": [
    "(dt.hf_turb_anom * ds_idx.windy_idx)[:365,:,:].mean(dim='time').plot(vmin=-40, vmax=40, \n",
    "                                                                     cmap=plt.get_cmap('RdBu_r',16))"
   ]
  },
  {
   "cell_type": "code",
   "execution_count": 58,
   "id": "9ced56f8-22dd-46f4-b5f0-a0b423d3248c",
   "metadata": {
    "tags": []
   },
   "outputs": [
    {
     "data": {
      "text/plain": [
       "<matplotlib.collections.QuadMesh at 0x150c1cfb56f0>"
      ]
     },
     "execution_count": 58,
     "metadata": {},
     "output_type": "execute_result"
    },
    {
     "data": {
      "image/png": "[encoded data removed]",
      "text/plain": [
       "<Figure size 640x480 with 2 Axes>"
      ]
     },
     "metadata": {},
     "output_type": "display_data"
    }
   ],
   "source": [
    "tanom_wind.plot(vmin=-40, vmax=40, \n",
    "                cmap=plt.get_cmap('RdBu_r',16))"
   ]
  },
  {
   "cell_type": "code",
   "execution_count": null,
   "id": "ee1b30c2-5512-4a4e-b6b1-8a16150141b8",
   "metadata": {
    "tags": []
   },
   "outputs": [],
   "source": [
    "fig, axs = plt.subplots(nrows=1, ncols=3,\n",
    "                       subplot_kw={'projection': ccrs.SouthPolarStereo()},\n",
    "                       figsize=(11,4))\n",
    "axs=axs.flatten()\n",
    "\n",
    "\n",
    "ds_hist.hist_5deg.plot(ax=axs[0],\n",
    "                       transform=ccrs.PlateCarree(),\n",
    "                       cbar_kwargs={'label': ''},\n",
    "                      )\n",
    "axs[0].set_title('Extratropical cyclone \\n histogram')\n",
    "\n",
    "wind_ann.plot(ax=axs[1],\n",
    "              transform=ccrs.PlateCarree(),\n",
    "              cbar_kwargs={'label': ''},\n",
    "             )\n",
    "axs[1].set_title('Mean windspeed')\n",
    "\n",
    "(1/(4*365*95) * windy_days_ann).plot(ax=axs[2],\n",
    "                                     transform=ccrs.PlateCarree(),\n",
    "                                     cbar_kwargs={'label': ''},\n",
    "                                    )\n",
    "axs[2].set_title('Fraction of days with \\n continual strong winds')\n",
    "\n",
    "for i in range(3):\n",
    "    axs[i].set_extent([-180, 180, -90, -40], ccrs.PlateCarree())\n",
    "    axs[i].gridlines(alpha=0.7)\n",
    "    axs[i].set_boundary(circle, transform=axs[i].transAxes)\n",
    "    axs[i].coastlines()\n",
    "    \n",
    "plt.savefig('/home/Katherine.Turner/storminess_comp_annual.png', format='png', dpi=100)"
   ]
  },
  {
   "cell_type": "markdown",
   "id": "a8075eae-c6bb-447c-a385-cda198e0a250",
   "metadata": {},
   "source": [
    "## Interannual variability in storm center numbers"
   ]
  },
  {
   "cell_type": "code",
   "execution_count": null,
   "id": "183df897-7ec4-4aea-9ebf-9f18b18c00d1",
   "metadata": {
    "tags": []
   },
   "outputs": [],
   "source": [
    "year_counts_summer = xr.DataArray(\n",
    "    data = [4396, 4249, 4211, 4280, 4388, 4311, 4315, 4298, 4511, 3994,\n",
    "       4198, 4367, 4315, 4209, 4293, 4225, 4263, 4364, 4346, 4333, 4040,\n",
    "       4369, 4306, 4541, 4520, 4028, 4378, 4166, 4415, 4319, 4563, 4427,\n",
    "       4555, 4435, 4496, 4363, 4460, 4283, 4043, 4151, 4515, 4118, 4408,\n",
    "       4420, 4349, 4667, 4153, 4353, 4482, 4145, 4150, 4678, 4479, 4351,\n",
    "       4215, 4400, 4169, 4337, 4179, 4423, 4228, 3981, 4232, 4020, 4446,\n",
    "       4406, 4123, 4527, 4635, 4146, 4397, 4126, 4333, 4127, 4176, 4225,\n",
    "       4275, 4569, 4599, 4437, 3950, 4337, 4155, 4423, 4261, 4011, 4172,\n",
    "       4218, 4434, 4539, 4380, 4258, 4516, 4518],\n",
    "    dims = ['time'],\n",
    "    coords=dict(\n",
    "        time=djf_windy.time.data\n",
    "    )\n",
    ")\n",
    "year_counts_summer"
   ]
  },
  {
   "cell_type": "code",
   "execution_count": null,
   "id": "3d04800e-cb2a-4e32-99c0-b5846b85304b",
   "metadata": {
    "tags": []
   },
   "outputs": [],
   "source": [
    "wind_SO = (da * djf_windy).sum(dim=['lat', 'lon'])"
   ]
  },
  {
   "cell_type": "code",
   "execution_count": null,
   "id": "623113c9-e36e-478c-b4d5-a32f72fb49f0",
   "metadata": {
    "tags": []
   },
   "outputs": [],
   "source": [
    "((wind_SO - wind_SO.mean())/wind_SO.std()).plot()\n",
    "((year_counts_summer - year_counts_summer.mean())/year_counts_summer.std()).plot()"
   ]
  },
  {
   "cell_type": "code",
   "execution_count": null,
   "id": "d36efa72-78a1-40d4-93b3-7481a080f521",
   "metadata": {
    "tags": []
   },
   "outputs": [],
   "source": [
    "plt.scatter((wind_SO - wind_SO.mean())/wind_SO.std(), \n",
    "            (year_counts_summer - year_counts_summer.mean())/year_counts_summer.std())"
   ]
  },
  {
   "cell_type": "code",
   "execution_count": null,
   "id": "f054f7e2-a475-4a6c-83a5-80cd750f6c2a",
   "metadata": {
    "tags": []
   },
   "outputs": [],
   "source": [
    "np.corrcoef(wind_SO, year_counts_summer)"
   ]
  },
  {
   "cell_type": "code",
   "execution_count": null,
   "id": "d102b8b2-911f-46b9-880c-a6d0bfabd43d",
   "metadata": {},
   "outputs": [],
   "source": []
  }
 ],
 "metadata": {
  "kernelspec": {
   "display_name": "Python 3 (ipykernel)",
   "language": "python",
   "name": "python3"
  },
  "language_info": {
   "codemirror_mode": {
    "name": "ipython",
    "version": 3
   },
   "file_extension": ".py",
   "mimetype": "text/x-python",
   "name": "python",
   "nbconvert_exporter": "python",
   "pygments_lexer": "ipython3",
   "version": "3.10.10"
  }
 },
 "nbformat": 4,
 "nbformat_minor": 5
}
