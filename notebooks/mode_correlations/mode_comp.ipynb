{
 "cells": [
  {
   "cell_type": "code",
   "execution_count": 18,
   "id": "42ffc92c-861d-465b-a3c1-ac92596045ac",
   "metadata": {
    "tags": []
   },
   "outputs": [],
   "source": [
    "import xarray as xr\n",
    "import numpy as np"
   ]
  },
  {
   "cell_type": "code",
   "execution_count": 3,
   "id": "ee249f2d-7c4a-4c3e-a705-aa1c3cc33e5b",
   "metadata": {
    "tags": []
   },
   "outputs": [],
   "source": [
    "fpath = '/work/Katherine.Turner/smaller_projects/hifreq-variability/data'"
   ]
  },
  {
   "cell_type": "code",
   "execution_count": 34,
   "id": "283373c9-65b5-4de0-b407-e3c513aee4bb",
   "metadata": {
    "tags": []
   },
   "outputs": [],
   "source": [
    "mod = 'ESM4'\n",
    "\n",
    "ds_storms = xr.open_dataset(f\"{fpath}/{mod}_monthly_storms.nc\", use_cftime=True)\n",
    "ds_SAM_djf = xr.open_dataset(f\"{fpath}/{mod}_DJF_pc1.nc\", use_cftime=True)\n",
    "ds_SAM_jja = xr.open_dataset(f\"{fpath}/{mod}_JJA_pc1.nc\", use_cftime=True)\n",
    "ds_NINO = xr.open_dataset(f\"{fpath}/{mod}_nino34.nc\", use_cftime=True)"
   ]
  },
  {
   "cell_type": "code",
   "execution_count": 35,
   "id": "f8b521ee-3f50-4b72-bac3-c1f623bd363e",
   "metadata": {
    "tags": []
   },
   "outputs": [],
   "source": [
    "djf_storms = ds_storms.center_counts.resample(time='QS-DEC').sum()[4:-4:4]\n",
    "djf_SAM = ds_SAM_djf.pcs[1:-1,0]\n",
    "djf_nino = ds_NINO.nino34.resample(time='QS-DEC').mean()[4:-4:4]"
   ]
  },
  {
   "cell_type": "code",
   "execution_count": 36,
   "id": "78dc75e7-4a28-40fe-8eb3-16edee609cf2",
   "metadata": {
    "tags": []
   },
   "outputs": [
    {
     "data": {
      "text/plain": [
       "(array([[ 1.        , -0.26797075],\n",
       "        [-0.26797075,  1.        ]]),\n",
       " array([[1.        , 0.10594664],\n",
       "        [0.10594664, 1.        ]]),\n",
       " array([[ 1.        , -0.02185223],\n",
       "        [-0.02185223,  1.        ]]))"
      ]
     },
     "execution_count": 36,
     "metadata": {},
     "output_type": "execute_result"
    }
   ],
   "source": [
    "np.corrcoef(djf_storms, djf_SAM), np.corrcoef(djf_storms, djf_nino), np.corrcoef(djf_nino, djf_SAM)"
   ]
  },
  {
   "cell_type": "code",
   "execution_count": 37,
   "id": "aabbd9de-7ca9-4303-a85d-92e2907216b9",
   "metadata": {
    "tags": []
   },
   "outputs": [],
   "source": [
    "jja_storms = ds_storms.center_counts.resample(time='QS-DEC').sum()[2::4]\n",
    "jja_SAM = ds_SAM_jja.pcs[:,0]\n",
    "jja_nino = ds_NINO.nino34.resample(time='QS-DEC').mean()[2::4]"
   ]
  },
  {
   "cell_type": "code",
   "execution_count": 38,
   "id": "6edfa24c-3c27-4132-a8f4-c80b1a75e7cc",
   "metadata": {
    "tags": []
   },
   "outputs": [
    {
     "data": {
      "text/plain": [
       "(array([[ 1.        , -0.24273115],\n",
       "        [-0.24273115,  1.        ]]),\n",
       " array([[1.        , 0.01536312],\n",
       "        [0.01536312, 1.        ]]),\n",
       " array([[1.       , 0.1681654],\n",
       "        [0.1681654, 1.       ]]))"
      ]
     },
     "execution_count": 38,
     "metadata": {},
     "output_type": "execute_result"
    }
   ],
   "source": [
    "np.corrcoef(jja_storms, jja_SAM), np.corrcoef(jja_storms, jja_nino), np.corrcoef(jja_nino, jja_SAM)"
   ]
  },
  {
   "cell_type": "code",
   "execution_count": null,
   "id": "1b21b37c-3c18-483f-8089-a28276453416",
   "metadata": {},
   "outputs": [],
   "source": []
  }
 ],
 "metadata": {
  "kernelspec": {
   "display_name": "Python 3 (ipykernel)",
   "language": "python",
   "name": "python3"
  },
  "language_info": {
   "codemirror_mode": {
    "name": "ipython",
    "version": 3
   },
   "file_extension": ".py",
   "mimetype": "text/x-python",
   "name": "python",
   "nbconvert_exporter": "python",
   "pygments_lexer": "ipython3",
   "version": "3.10.10"
  }
 },
 "nbformat": 4,
 "nbformat_minor": 5
}
