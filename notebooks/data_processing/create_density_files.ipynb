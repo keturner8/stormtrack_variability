{
 "cells": [
  {
   "cell_type": "code",
   "execution_count": 1,
   "id": "668c85b9-083a-4208-9b32-de0718404c69",
   "metadata": {
    "tags": []
   },
   "outputs": [],
   "source": [
    "import os\n",
    "import glob\n",
    "import subprocess\n",
    "\n",
    "import doralite\n",
    "import matplotlib.pyplot as plt\n",
    "import momgrid as mg\n",
    "import momlevel as ml\n",
    "import numpy as np\n",
    "import xarray as xr"
   ]
  },
  {
   "cell_type": "code",
   "execution_count": 8,
   "id": "acce5e31-5a52-4cee-b8e1-5dcbeb089c51",
   "metadata": {
    "tags": []
   },
   "outputs": [],
   "source": [
    "path = \"/archive/oar.gfdl.cmip6/CM4/warsaw_201710_om4_v1.0.1/CM4_piControl_C/gfdl.ncrc4-intel16-prod-openmp/pp/ocean_monthly_z_1x1deg/ts/monthly/5yr/\"\n",
    "#path = \"/archive/oar.gfdl.cmip6/ESM4/DECK/ESM4_piControl_D/gfdl.ncrc4-intel16-prod-openmp/pp/ocean_monthly_z_1x1deg/ts/monthly/5yr/\"\n",
    "# momgrid will use a directory of pre-computed weights\n",
    "import momgrid\n",
    "os.environ[\"MOMGRID_WEIGHTS_DIR\"] = \"/nbhome/John.Krasting/grid_weights\""
   ]
  },
  {
   "cell_type": "code",
   "execution_count": 9,
   "id": "90526767-0b7c-45df-975e-3f0b323d4a13",
   "metadata": {
    "tags": []
   },
   "outputs": [
    {
     "name": "stdout",
     "output_type": "stream",
     "text": [
      "20\n",
      "30\n",
      "40\n",
      "50\n",
      "60\n"
     ]
    }
   ],
   "source": [
    "for i in range(15,65):\n",
    "    ds_t = xr.open_mfdataset(f'{path}ocean_monthly_z_1x1deg.{i:03d}*.thetao.nc', use_cftime=True)\n",
    "    ds_s = xr.open_mfdataset(f'{path}ocean_monthly_z_1x1deg.{i:03d}*.so.nc', use_cftime=True)\n",
    "    \n",
    "    ds_t = ds_t.sel(lat=slice(-90,-30))\n",
    "    ds_s = ds_s.sel(lat=slice(-90,-30))\n",
    "\n",
    "    zeta = 0.0\n",
    "    rho_0 = ml.derived.calc_pdens(ds_t.thetao, ds_s.so)\n",
    "\n",
    "    rho_0.to_dataset(name='rho_0').to_netcdf(f'/work/Katherine.Turner/tempest-extremes/CM4_cmip/data/ocean_monthly_z_1x1deg.{i:03d}1-{i+1:03d}0.rho_0.nc')\n",
    "    \n",
    "    if i%10 == 0:\n",
    "        print(i)"
   ]
  },
  {
   "cell_type": "code",
   "execution_count": 7,
   "id": "059fc1ee-98b6-4b31-b927-71adbbfcb405",
   "metadata": {
    "tags": []
   },
   "outputs": [
    {
     "data": {
      "text/plain": [
       "'/archive/oar.gfdl.cmip6/CM4/warsaw_201710_om4_v1.0.1/CM4_piControl_C/gfdl.ncrc4-intel16-prod-openmp/pp/ocean_monthly_z_1x1deg/ts/monthly/5yrocean_monthly_z_1x1deg.015*.thetao.nc'"
      ]
     },
     "execution_count": 7,
     "metadata": {},
     "output_type": "execute_result"
    }
   ],
   "source": [
    "f'{path}ocean_monthly_z_1x1deg.{i:03d}*.thetao.nc'"
   ]
  },
  {
   "cell_type": "code",
   "execution_count": null,
   "id": "1c5a524b-d3b0-42fd-986e-e5b942d6c4d9",
   "metadata": {},
   "outputs": [],
   "source": []
  }
 ],
 "metadata": {
  "kernelspec": {
   "display_name": "Python 3 (ipykernel)",
   "language": "python",
   "name": "python3"
  },
  "language_info": {
   "codemirror_mode": {
    "name": "ipython",
    "version": 3
   },
   "file_extension": ".py",
   "mimetype": "text/x-python",
   "name": "python",
   "nbconvert_exporter": "python",
   "pygments_lexer": "ipython3",
   "version": "3.12.11"
  }
 },
 "nbformat": 4,
 "nbformat_minor": 5
}
