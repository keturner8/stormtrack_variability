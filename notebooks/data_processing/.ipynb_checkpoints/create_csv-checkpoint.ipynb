{
 "cells": [
  {
   "cell_type": "code",
   "execution_count": 7,
   "id": "7b31ff24-71bd-487a-b593-8e05090ffa70",
   "metadata": {
    "tags": []
   },
   "outputs": [],
   "source": [
    "import csv"
   ]
  },
  {
   "cell_type": "code",
   "execution_count": 8,
   "id": "1848fe38-d0c7-495c-809c-0b579c6bcfce",
   "metadata": {
    "tags": []
   },
   "outputs": [],
   "source": [
    "expname = \"ESM4_cmip\"\n",
    "subname = \"ens\""
   ]
  },
  {
   "cell_type": "code",
   "execution_count": 4,
   "id": "f9e4eec7-6a77-43e7-83cd-e25f54cedaea",
   "metadata": {
    "jupyter": {
     "source_hidden": true
    },
    "tags": []
   },
   "outputs": [],
   "source": [
    "# for CORE DATA from 2011 to 2014\n",
    "\n",
    "pfile_in = \"ERA5/MC_tracks/MC_coretracks/COREforcing/trajectories-CORE-2011-2014.txt\"\n",
    "pfile_out = \"ERA5/MC_tracks/MC_coretracks/trajectories-CORE-2011-2014.csv\"\n",
    "\n",
    "event = 0\n",
    "\n",
    "# Open input and output files\n",
    "with open(pfile_in, \"r\") as file_in, open(pfile_out, \"w\", newline=\"\") as file_out:\n",
    "    reader = csv.reader(file_in, delimiter=\"\\t\")\n",
    "    writer = csv.writer(file_out, delimiter=\"\\t\")\n",
    "\n",
    "    # Write header for the output file\n",
    "    writer.writerow([\"Event\", \"Year\", \"Month\", \"Day\", \"Time\", \"Lon\", \"Lat\", \"SLP\"])#, \"Windspeed\"])\n",
    "\n",
    "    # Iterate over each line in the input file\n",
    "    for line in reader:\n",
    "        # Check if the line contains date information\n",
    "        if len(line) < 7:\n",
    "            event = event + 1  # Update event number\n",
    "        if len(line) >= 7: \n",
    "            slp, yr, mo, day, time = line[-5:]\n",
    "            lon, lat = line[3:5]\n",
    "            writer.writerow([event, yr, mo, day, time, lon, lat, slp])#, wind])"
   ]
  },
  {
   "cell_type": "code",
   "execution_count": 3,
   "id": "b5b323b0-8d38-48c0-ac9e-423c3929f1dd",
   "metadata": {
    "jupyter": {
     "source_hidden": true
    },
    "tags": []
   },
   "outputs": [],
   "source": [
    "# for ERA5 DATA WITHOUT WINDS\n",
    "\n",
    "pfile_in  = f\"{expname}/ERA5_storms.txt\"\n",
    "pfile_out = f\"{expname}/ERA5_storms.csv\"\n",
    "\n",
    "event = 0\n",
    "\n",
    "# Open input and output files\n",
    "with open(pfile_in, \"r\") as file_in, open(pfile_out, \"w\", newline=\"\") as file_out:\n",
    "    reader = csv.reader(file_in, delimiter=\"\\t\")\n",
    "    writer = csv.writer(file_out, delimiter=\"\\t\")\n",
    "\n",
    "    # Write header for the output file\n",
    "    writer.writerow([\"Event\", \"Year\", \"Month\", \"Day\", \"Time\", \"Lon\", \"Lat\", \"SLP\"])#, \"Windspeed\"])\n",
    "\n",
    "    # Iterate over each line in the input file\n",
    "    for line in reader:\n",
    "        # Check if the line contains date information\n",
    "        if len(line) < 7:\n",
    "            event = event + 1  # Update event number\n",
    "        if len(line) >= 7: \n",
    "            slp, yr, mo, day, time = line[-5:]\n",
    "            lon, lat = line[3:5]\n",
    "            writer.writerow([event, yr, mo, day, time, lon, lat, slp])#, wind])"
   ]
  },
  {
   "cell_type": "code",
   "execution_count": 3,
   "id": "a0d96141-72e9-4fa6-9865-7806dc2e555d",
   "metadata": {
    "tags": []
   },
   "outputs": [],
   "source": [
    "# for MODEL DATA ONLY\n",
    "\n",
    "pfile_in  = f\"/work/Katherine.Turner/tempest-extremes/{expname}/node_files/SH_stormtraj.txt\"\n",
    "pfile_out = f\"/work/Katherine.Turner/tempest-extremes/{expname}/node_files/SH_stormtraj.csv\"\n",
    "\n",
    "event = 0\n",
    "\n",
    "# Open input and output files\n",
    "with open(pfile_in, \"r\") as file_in, open(pfile_out, \"w\", newline=\"\") as file_out:\n",
    "    reader = csv.reader(file_in, delimiter=\"\\t\")\n",
    "    writer = csv.writer(file_out, delimiter=\"\\t\")\n",
    "\n",
    "    # Write header for the output file\n",
    "    writer.writerow([\"Event\", \"Year\", \"Month\", \"Day\", \"Time\", \"Lon\", \"Lat\", \"SLP\", \"Windspeed\"])\n",
    "\n",
    "    # Iterate over each line in the input file\n",
    "    for line in reader:\n",
    "        # Check if the line contains date information\n",
    "        if len(line) < 7:\n",
    "            event = event + 1  # Update event number\n",
    "        if len(line) >= 7: \n",
    "            slp, wind, yr, mo, day, time = line[-6:]\n",
    "            lon, lat = line[3:5]\n",
    "            writer.writerow([event, yr, mo, day, time, lon, lat, slp, wind])"
   ]
  },
  {
   "cell_type": "code",
   "execution_count": 9,
   "id": "5394d08b-ba6f-4d8b-ad13-4eb5f328b73c",
   "metadata": {},
   "outputs": [],
   "source": [
    "# for MODEL DATA ONLY if there are NO WINDS\n",
    "\n",
    "pfile_in  = f\"/work/Katherine.Turner/tempest-extremes/{expname}/node_files/SH_stormtraj.txt\"\n",
    "pfile_out = f\"/work/Katherine.Turner/tempest-extremes/{expname}/node_files/SH_stormtraj.csv\"\n",
    "\n",
    "event = 0\n",
    "\n",
    "# Open input and output files\n",
    "with open(pfile_in, \"r\") as file_in, open(pfile_out, \"w\", newline=\"\") as file_out:\n",
    "    reader = csv.reader(file_in, delimiter=\"\\t\")\n",
    "    writer = csv.writer(file_out, delimiter=\"\\t\")\n",
    "\n",
    "    # Write header for the output file\n",
    "    writer.writerow([\"Event\", \"Year\", \"Month\", \"Day\", \"Time\", \"Lon\", \"Lat\", \"SLP\"])\n",
    "\n",
    "    # Iterate over each line in the input file\n",
    "    for line in reader:\n",
    "        # Check if the line contains date information\n",
    "        if line[0] == 'start':\n",
    "            event = event + 1  # Update event number\n",
    "        else: \n",
    "            slp, yr, mo, day, time = line[-5:]\n",
    "            lon, lat = line[3:5]\n",
    "            writer.writerow([event, yr, mo, day, time, lon, lat, slp])"
   ]
  },
  {
   "cell_type": "code",
   "execution_count": 5,
   "id": "e5f532ee-9083-417f-a856-fb25b1e16981",
   "metadata": {
    "tags": []
   },
   "outputs": [
    {
     "data": {
      "text/plain": [
       "''"
      ]
     },
     "execution_count": 5,
     "metadata": {},
     "output_type": "execute_result"
    }
   ],
   "source": [
    "line[0]"
   ]
  },
  {
   "cell_type": "code",
   "execution_count": null,
   "id": "bff8b7da-610e-472b-bee3-73559c7d77ca",
   "metadata": {},
   "outputs": [],
   "source": []
  }
 ],
 "metadata": {
  "kernelspec": {
   "display_name": "Python 3 (ipykernel)",
   "language": "python",
   "name": "python3"
  },
  "language_info": {
   "codemirror_mode": {
    "name": "ipython",
    "version": 3
   },
   "file_extension": ".py",
   "mimetype": "text/x-python",
   "name": "python",
   "nbconvert_exporter": "python",
   "pygments_lexer": "ipython3",
   "version": "3.10.10"
  }
 },
 "nbformat": 4,
 "nbformat_minor": 5
}
