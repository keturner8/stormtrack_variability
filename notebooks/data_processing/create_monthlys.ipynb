{
 "cells": [
  {
   "cell_type": "code",
   "execution_count": 1,
   "id": "e451b4b5-6fa2-4c68-a952-f966f92cb497",
   "metadata": {
    "tags": []
   },
   "outputs": [],
   "source": [
    "import xarray as xr\n",
    "import glob"
   ]
  },
  {
   "cell_type": "code",
   "execution_count": 2,
   "id": "6143baad-9629-407c-a92e-d0c649f4bbb7",
   "metadata": {
    "tags": []
   },
   "outputs": [],
   "source": [
    "mod = 'ESM4_cmip'\n",
    "var = \"omldamax\"\n",
    "path = f\"/work/Katherine.Turner/tempest-extremes/{mod}/data/\""
   ]
  },
  {
   "cell_type": "code",
   "execution_count": 12,
   "id": "c5382a45-489d-42d8-969c-184cff419421",
   "metadata": {
    "tags": []
   },
   "outputs": [
    {
     "name": "stdout",
     "output_type": "stream",
     "text": [
      "0\n",
      "1\n",
      "2\n",
      "3\n",
      "4\n"
     ]
    }
   ],
   "source": [
    "for i in range(5):\n",
    "    ds_in = xr.open_mfdataset(f\"{path}/ocean_daily_1x1deg.0{i}*{var}.nc\", use_cftime=True)\n",
    "    ds_out = ds_in.resample(time='MS').mean()\n",
    "    \n",
    "    ds_out.to_netcdf(f'{path}/ocean_monthly_1x1deg.0{i}01-0{i+1}00.{var}.nc')\n",
    "    print(i)"
   ]
  },
  {
   "cell_type": "code",
   "execution_count": null,
   "id": "aec4bc8d-6ff8-43ea-821b-4bf0ec0cd7fb",
   "metadata": {},
   "outputs": [],
   "source": []
  }
 ],
 "metadata": {
  "kernelspec": {
   "display_name": "Python 3 (ipykernel)",
   "language": "python",
   "name": "python3"
  },
  "language_info": {
   "codemirror_mode": {
    "name": "ipython",
    "version": 3
   },
   "file_extension": ".py",
   "mimetype": "text/x-python",
   "name": "python",
   "nbconvert_exporter": "python",
   "pygments_lexer": "ipython3",
   "version": "3.10.10"
  }
 },
 "nbformat": 4,
 "nbformat_minor": 5
}
