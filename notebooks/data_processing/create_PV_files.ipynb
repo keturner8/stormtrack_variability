{
 "cells": [
  {
   "cell_type": "code",
   "execution_count": 2,
   "id": "d8c6ecdd-3b93-46ca-8c30-73aaeee3e12e",
   "metadata": {},
   "outputs": [],
   "source": [
    "import os\n",
    "import glob\n",
    "import subprocess\n",
    "\n",
    "import doralite\n",
    "import matplotlib.pyplot as plt\n",
    "import momgrid as mg\n",
    "import momlevel as ml\n",
    "import numpy as np\n",
    "import xarray as xr"
   ]
  },
  {
   "cell_type": "code",
   "execution_count": 37,
   "id": "f84184f6-672c-4fd3-8205-0131117abbe9",
   "metadata": {},
   "outputs": [],
   "source": [
    "path = \"/work/Katherine.Turner/tempest-extremes/CM4_cmip/data/\"\n",
    "path = \"/archive/oar.gfdl.cmip6/ESM4/DECK/ESM4_piControl_D/gfdl.ncrc4-intel16-prod-openmp/pp/ocean_monthly_z_1x1deg/ts/monthly/5yr/\"\n",
    "# momgrid will use a directory of pre-computed weights\n",
    "import momgrid\n",
    "os.environ[\"MOMGRID_WEIGHTS_DIR\"] = \"/nbhome/John.Krasting/grid_weights\""
   ]
  },
  {
   "cell_type": "code",
   "execution_count": 40,
   "id": "7cbd4c7b-00d7-4d2c-bd77-1da33f9e6533",
   "metadata": {},
   "outputs": [],
   "source": [
    "time_coder = xr.coders.CFDatetimeCoder(use_cftime=True)\n",
    "\n",
    "for i in range(0,50):\n",
    "    ds_t = xr.open_mfdataset(f'{path}ocean_monthly_z_1x1deg.{i:03d}*.thetao.nc', decode_times=time_coder)\n",
    "    ds_s = xr.open_mfdataset(f'{path}ocean_monthly_z_1x1deg.{i:03d}*.so.nc', decode_times=time_coder)\n",
    "    \n",
    "    ds_t = ds_t.sel(lat=slice(-90,-30))\n",
    "    ds_s = ds_s.sel(lat=slice(-90,-30))\n",
    "\n",
    "    zeta = 0.0\n",
    "    coriolis = ml.derived.calc_coriolis(ds_t.lat)\n",
    "    n2 = ml.derived.calc_n2(ds_t.thetao, ds_s.so)\n",
    "    pv = ml.derived.calc_pv(zeta, coriolis, n2, interp_n2=False, units=\"cm\")\n",
    "\n",
    "    pv = pv.transpose('time', 'z_l', 'lat', 'lon').compute()\n",
    "\n",
    "    pv.to_dataset(name='pv').to_netcdf(f'/work/Katherine.Turner/tempest-extremes/ESM4_cmip/data/ocean_monthly_z_1x1deg.0{i:03d}1-0{i+1:03d}0.pv.nc')"
   ]
  },
  {
   "cell_type": "code",
   "execution_count": null,
   "id": "2f3826f4-6ec8-4f8c-8b07-533d0e80b3aa",
   "metadata": {},
   "outputs": [],
   "source": []
  }
 ],
 "metadata": {
  "kernelspec": {
   "display_name": "Python 3 (ipykernel)",
   "language": "python",
   "name": "python3"
  },
  "language_info": {
   "codemirror_mode": {
    "name": "ipython",
    "version": 3
   },
   "file_extension": ".py",
   "mimetype": "text/x-python",
   "name": "python",
   "nbconvert_exporter": "python",
   "pygments_lexer": "ipython3",
   "version": "3.12.11"
  }
 },
 "nbformat": 4,
 "nbformat_minor": 5
}
